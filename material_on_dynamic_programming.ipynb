{
 "cells": [
  {
   "cell_type": "markdown",
   "metadata": {},
   "source": [
    "# Dynamic programming\n",
    "\n",
    "Going through Andrey Grehov Dynamic programming series. His [Youtube series](https://www.youtube.com/watch?v=KTDwvph8Tzo&list=PLVrpF4r7WIhTT1hJqZmjP10nxsmrbRvlf&index=3), [Git repo](https://github.com/andreygrehov/dp/tree/master/lecture6)\n",
    "\n",
    "I am adapting the code from Golang to Python"
   ]
  },
  {
   "cell_type": "markdown",
   "metadata": {},
   "source": [
    "# What is dynamic programming? (Course 2)\n",
    "\n",
    "\n",
    "Dynamic programming is an optimazation technique that reduces run time from exponential to polynomial or even linear.\n",
    "\n",
    "- DP is used to solve certain types of problems consisting of:  \n",
    "    1. optimal substructure  \n",
    "    2. overlapping subproblems  \n",
    "       \n",
    "        \n",
    "Instead of solving the problem all at once, you break the problem down in its simplest step to build up a solution. Information from past iterations can be used to solve new instances.\n",
    "\n",
    "Source: [Course 2](https://www.youtube.com/watch?v=jTjRGe0wRvI&list=PLVrpF4r7WIhTT1hJqZmjP10nxsmrbRvlf)"
   ]
  },
  {
   "cell_type": "markdown",
   "metadata": {},
   "source": [
    "# Elementary problem (Course 3)\n",
    "\n",
    "### How to recognize DP problems\n",
    "\n",
    "- They come in either:  \n",
    "    - **Combinatoric** problems  \n",
    "        - answer **how many**  \n",
    "            - ways to make change?  \n",
    "            - ways to traverse a graph?  \n",
    "            - steps neeed to get from point A to point B?  \n",
    "    - **optimization** problems  \n",
    "        - answers **what is the (maximum/minimum)**  \n",
    "            - number of steps neeed to get from point A to point B?  \n",
    "            - profit gained by buying and selling a stock?  \n",
    "            - cost to tramel from New York to Mumbai?  \n",
    "        \n",
    "DP is an algorithm technique to optimize combinatoric and optimization problems utilizeing the fact that the optimal solution for the overall problem depends upon the optimal solution to its overlapping subproblems  \n",
    "\n",
    "### elementary problem\n",
    "\n",
    "Solve the sumation of 1 + 2 + 3 + ... + k  \n",
    "\n",
    "break down the simpliest subproblem  \n",
    "\n",
    "n = 1, F(1) = 1  \n",
    "n = 2, F(2) = 1 + 2 or F(1) + 2 = 3  \n",
    "n = 3, F(3) = 1 + 2 + 3 or F(2) + 3 = 3 + 3 = 6  \n",
    "\n",
    "F(i) = F(i-1) + i  \n",
    "\n",
    "source: [Course 3](https://www.youtube.com/watch?v=KTDwvph8Tzo&list=PLVrpF4r7WIhTT1hJqZmjP10nxsmrbRvlf&index=3)"
   ]
  },
  {
   "cell_type": "code",
   "execution_count": 64,
   "metadata": {},
   "outputs": [
    {
     "data": {
      "text/plain": [
       "15"
      ]
     },
     "execution_count": 64,
     "metadata": {},
     "output_type": "execute_result"
    }
   ],
   "source": [
    "'''\n",
    "    Problem\n",
    "    Find the sum of the first N numbers.\n",
    "    \n",
    "    Objective function:\n",
    "    f(i) is the sum of the first i elements.\n",
    "    \n",
    "    Recurrence relation:\n",
    "    f(n) = f(n-1) + n\n",
    "'''\n",
    "\n",
    "def n_sum(n:int) -> list:\n",
    "    dp = [0] * (n+1)\n",
    "    for i in range(1, len(dp)):\n",
    "        dp[i] = dp[i-1] + i\n",
    "    return dp[n]\n",
    "n_sum(5)"
   ]
  },
  {
   "cell_type": "code",
   "execution_count": 80,
   "metadata": {},
   "outputs": [
    {
     "name": "stderr",
     "output_type": "stream",
     "text": [
      "....\n",
      "----------------------------------------------------------------------\n",
      "Ran 4 tests in 0.003s\n",
      "\n",
      "OK\n"
     ]
    }
   ],
   "source": [
    "import unittest\n",
    "\n",
    "class Test_N_sum(unittest.TestCase):\n",
    "    \n",
    "    def test_edgecase1(self):\n",
    "        self.assertEqual(n_sum(0), 0)\n",
    "        \n",
    "    def test_edgecase2(self):\n",
    "        self.assertEqual(n_sum(1), 1)\n",
    "        \n",
    "    def test_simple(self):\n",
    "        self.assertEqual(n_sum(5), 15)\n",
    "\n",
    "if __name__ == '__main__':\n",
    "    unittest.main(argv=['first-arg-is-ignored'], exit=False)"
   ]
  },
  {
   "cell_type": "markdown",
   "metadata": {},
   "source": [
    "# Framework for solming DP problems (Course 4)\n",
    "\n",
    "Recap of last problem for n = 5  \n",
    "1 + 2 + 3 + 4 + 5\n",
    "\n",
    "First solve for n = 1, then 2, then 3 ...  \n",
    "\n",
    "We found a relationship:  \n",
    "F(n) = F(n-1) + n  \n",
    "\n",
    "For n = 5, we have an array of size 6,  \n",
    "\n",
    "[0, 1, 3, 6, 10, 15]  \n",
    "\n",
    "We want to relay on existing solutions we already know to built up the problem  \n",
    "\n",
    "If asked, what about for n = 6, you can use them information n = 5 to get 15 and add 6, to get 21  \n",
    "\n",
    "This technique is called memoization, which cache results\n",
    "\n",
    "\n",
    "### Stairs case problem\n",
    "\n",
    "Given a staircase, size n, where you can climb with a step size of 1 or 2, how many ways can you reach the top of the stairs?  \n",
    "\n",
    "For n = 4,\n",
    "\n",
    "1, 1, 1, 1\n",
    "1, 2, 1\n",
    "2, 1, 1\n",
    "1, 1, 2\n",
    "2, 2\n",
    "\n",
    "There are 5 different ways to get to the top of the stairs\n",
    "\n",
    "# Step 1: Express goal as an objective function\n",
    "\n",
    "An objective function is the function you want to minimize or maximize in the problem  \n",
    "\n",
    "F(i) is the number of distinct ways to reach the ith stair  \n",
    "\n",
    "# Step 2: break down the problem\n",
    "\n",
    "Identify the base cases to start  \n",
    "\n",
    "when n = 0  \n",
    "--------------------------\n",
    "\n",
    "F(0) = 1, already there\n",
    "\n",
    "when n = 1  \n",
    "--------------------------\n",
    "\n",
    "F(1) = 1  \n",
    "\n",
    "when n = 2  \n",
    "--------------------------\n",
    "\n",
    "1, 1  \n",
    "2  \n",
    "There are 2 distinct ways  \n",
    "\n",
    "F(2) = 2  \n",
    "\n",
    "when n = 3  \n",
    "--------------------------\n",
    "\n",
    "1, 1, 1  \n",
    "1, 2  \n",
    "2, 1  \n",
    "There are 3 distinct ways  \n",
    "\n",
    "F(3) = 3\n",
    "\n",
    "n = 4\n",
    "--------------------------\n",
    "\n",
    "1, 1, 1, 1  \n",
    "2, 1, 1  \n",
    "1, 2, 1  \n",
    "1, 1, 2  \n",
    "2, 2  \n",
    "\n",
    "There are 5 distinct ways  \n",
    "\n",
    "F(4) = 5, could it be F(i) = F(i-1) + F(i-2)  \n",
    "\n",
    "\n",
    "n = 5  \n",
    "--------------------------\n",
    "\n",
    "Assume F(5) = F(4) + F(3) = 5 + 3 = 8 ways  \n",
    "\n",
    "1, 1, 1, 1, 1  \n",
    "2, 1, 1, 1  \n",
    "1, 2, 1, 1  \n",
    "1, 1, 2, 1  \n",
    "1, 1, 1, 2  \n",
    "2, 2, 1  \n",
    "2, 1, 2  \n",
    "1, 2, 2  \n",
    "\n",
    "\n",
    "Correct! F(5) = 8\n",
    "\n",
    "### step 3: find the recurance relation\n",
    "\n",
    "From the last stair, we can get there my either coming from the last stair or the 2nd to last stair  \n",
    "F(end) = F(end - 1) or F(end - 2)\n",
    "\n",
    "The total amount of ways would be adding F(i - 1) + F(i - 2) together  \n",
    "F(i) = F(i-1) + F(i-2)  \n",
    "\n",
    "In combinatorics, this is called the rule of sum since you can only do one at a time  \n",
    "\n",
    "If you could do both at a time, then it would be rule of product:  \n",
    "\n",
    "The total amount of ways would be multiplying  F(i - 1) * F(i - 2) together  \n",
    "F(i) = F(i-1) * F(i-2)  \n",
    "\n",
    "\n",
    "\n",
    "To minimize or maximize you would want to take either the min(F(i-1) + past work, F(i-2) + past work)  \n",
    "\n",
    "\n",
    "### Steps to solve DP problems:\n",
    "\n",
    "1. Define objective function\n",
    "2. Identify base cases\n",
    "3. Recurrence Relation\n",
    "4. Order of computation\n",
    "5. Location of answer\n",
    "\n",
    "source: [Course 4](https://www.youtube.com/watch?v=KTDwvph8Tzo&list=PLVrpF4r7WIhTT1hJqZmjP10nxsmrbRvlf&index=4)"
   ]
  },
  {
   "cell_type": "code",
   "execution_count": 63,
   "metadata": {},
   "outputs": [
    {
     "data": {
      "text/plain": [
       "5"
      ]
     },
     "execution_count": 63,
     "metadata": {},
     "output_type": "execute_result"
    }
   ],
   "source": [
    "'''\n",
    "    Problem: Climbing Stairs\n",
    "    \n",
    "    You are climbing a stair case. It takes n steps to reach to the top.\n",
    "    Each time you can either climb 1 or 2 steps.\n",
    "    In how many distinct ways can you climb to the top?\n",
    "    \n",
    "    Framework for solving DP problems:\n",
    "    1. Define the objective function\n",
    "        f(i) is the number distinct ways to reach to i-th stair.\n",
    "    2. Identify the base cases\n",
    "        f(0) = 1\n",
    "        f(1) = 1\n",
    "    3. Write down a recurrence relation for the optimized objective fuction\n",
    "        f(n) = f(n-1) + f(n-2)\n",
    "    4. What's the order of execution?\n",
    "        bottom-up, rely on the previous subproblems\n",
    "    5. Where to look for the answer?\n",
    "        f(n)\n",
    "\n",
    "'''\n",
    "# time complexity O(n)\n",
    "# space complexity O(n)\n",
    "def climb_stairs(n: int) -> int:\n",
    "    if n == 0:\n",
    "        return 1\n",
    "    elif n == 1:\n",
    "        return 1\n",
    "    dp = [0] * (n + 1)\n",
    "    dp[0] = 1\n",
    "    dp[1] = 1\n",
    "    for i in range(2, len(dp)):\n",
    "        dp[i] = dp[i-1] + dp[i-2]\n",
    "    return dp[n]\n",
    "climb_stairs(4)"
   ]
  },
  {
   "cell_type": "code",
   "execution_count": 44,
   "metadata": {},
   "outputs": [
    {
     "name": "stderr",
     "output_type": "stream",
     "text": [
      "........\n",
      "----------------------------------------------------------------------\n",
      "Ran 8 tests in 0.007s\n",
      "\n",
      "OK\n"
     ]
    }
   ],
   "source": [
    "import unittest\n",
    "\n",
    "class Test_N_Stairs(unittest.TestCase):\n",
    "    \n",
    "    def test_edgecase1(self):\n",
    "        self.assertEqual(climb_stairs(0), 1)\n",
    "        \n",
    "    def test_edgecase2(self):\n",
    "        self.assertEqual(climb_stairs(1), 1)\n",
    "        \n",
    "    def test_edgecase3(self):\n",
    "        self.assertEqual(climb_stairs(2), 2)\n",
    "        \n",
    "    def test_simple(self):\n",
    "        self.assertEqual(climb_stairs(5), 8)\n",
    "\n",
    "if __name__ == '__main__':\n",
    "    unittest.main(argv=['first-arg-is-ignored'], exit=False)"
   ]
  },
  {
   "cell_type": "markdown",
   "metadata": {},
   "source": [
    "# More Climbing Stairs (Course 5)\n",
    "\n",
    "Extending the climbing stairs problem:\n",
    "\n",
    "To optimize space complexity, we can instead only allocate memory for the last two steps. We do not need an array of n+1 size.\n",
    "\n",
    "source: [Course 5](https://www.youtube.com/watch?v=KTDwvph8Tzo&list=PLVrpF4r7WIhTT1hJqZmjP10nxsmrbRvlf&index=5)"
   ]
  },
  {
   "cell_type": "code",
   "execution_count": 174,
   "metadata": {},
   "outputs": [
    {
     "data": {
      "text/plain": [
       "13"
      ]
     },
     "execution_count": 174,
     "metadata": {},
     "output_type": "execute_result"
    }
   ],
   "source": [
    "'''\n",
    "    Problem: Climbing Stairs with reduced memory\n",
    "    \n",
    "    You are climbing a stair case. It takes n steps to reach to the top.\n",
    "    Each time you can either climb 1 or 2 steps.\n",
    "    In how many distinct ways can you climb to the top?\n",
    "    \n",
    "    Framework for solving DP problems:\n",
    "    1. Define the objective function\n",
    "        f(i) is the number distinct ways to reach to i-th stair.\n",
    "    2. Identify the base cases\n",
    "        f(0) = 1\n",
    "        f(1) = 1\n",
    "    3. Write down a recurrence relation for the optimized objective fuction\n",
    "        f(n) = f(n-1) + f(n-2)\n",
    "    4. What's the order of execution?\n",
    "        bottom-up, rely on the previous subproblems\n",
    "    5. Where to look for the answer?\n",
    "        f(n)\n",
    "\n",
    "'''\n",
    "# time complexity O(n)\n",
    "# space complexity O(1)\n",
    "def climb_stairs(n: int) -> int:\n",
    "    if n == 0:\n",
    "        return 1\n",
    "    elif n == 1:\n",
    "        return 1\n",
    "    first_step = 1\n",
    "    second_step = 1\n",
    "    for i in range(2, n+1):\n",
    "        next_step = first_step + second_step\n",
    "        first_step = second_step\n",
    "        second_step = next_step\n",
    "    return next_step\n",
    "climb_stairs(6)"
   ]
  },
  {
   "cell_type": "code",
   "execution_count": 28,
   "metadata": {},
   "outputs": [
    {
     "data": {
      "text/plain": [
       "13"
      ]
     },
     "execution_count": 28,
     "metadata": {},
     "output_type": "execute_result"
    }
   ],
   "source": [
    "'''\n",
    "    Problem: Climbing Stairs with 3 steps\n",
    "    \n",
    "    You are climbing a stair case. It takes n steps to reach to the top.\n",
    "    Each time you can either climb 1, 2 or 3 steps.\n",
    "    In how many distinct ways can you climb to the top?\n",
    "    \n",
    "    Framework for solving DP problems:\n",
    "    1. Define the objective function\n",
    "        f(i) is the number distinct ways to reach to i-th stair.\n",
    "    2. Identify the base cases\n",
    "        f(0) = 1\n",
    "        f(1) = 1\n",
    "        f(2) = 2\n",
    "    3. Write down a recurrence relation for the optimized objective fuction\n",
    "        f(n) = f(n-1) + f(n-2) + f(n-3)\n",
    "    4. What's the order of execution?\n",
    "        bottom-up, rely on the previous subproblems\n",
    "    5. Where to look for the answer?\n",
    "        f(n)\n",
    "\n",
    "'''\n",
    "# time complexity O(n)\n",
    "# space complexity O(1)\n",
    "def climb_stairs_3_steps(n: int) -> int:\n",
    "    if n == 0:\n",
    "        return 1\n",
    "    elif n == 1:\n",
    "        return 1\n",
    "    elif n == 2:\n",
    "        return 2\n",
    "    first_step = 1\n",
    "    second_step = 1\n",
    "    third_step = 2\n",
    "    \n",
    "    for i in range(3, n+1):\n",
    "        next_step = first_step + second_step + third_step\n",
    "        first_step = second_step\n",
    "        second_step = third_step\n",
    "        third_step = next_step\n",
    "    return next_step\n",
    "climb_stairs_3_steps(5)"
   ]
  },
  {
   "cell_type": "code",
   "execution_count": 119,
   "metadata": {},
   "outputs": [
    {
     "name": "stderr",
     "output_type": "stream",
     "text": [
      ".............\n",
      "----------------------------------------------------------------------\n",
      "Ran 13 tests in 0.174s\n",
      "\n",
      "OK\n"
     ]
    }
   ],
   "source": [
    "import unittest\n",
    "\n",
    "class Test_3_Stairs(unittest.TestCase):\n",
    "    \n",
    "    def test_edgecase1(self):\n",
    "        self.assertEqual(climb_stairs_3_steps(0), 1)\n",
    "        \n",
    "    def test_edgecase2(self):\n",
    "        self.assertEqual(climb_stairs_3_steps(1), 1)\n",
    "        \n",
    "    def test_edgecase3(self):\n",
    "        self.assertEqual(climb_stairs_3_steps(2), 2)\n",
    "        \n",
    "    def test_simple(self):\n",
    "        self.assertEqual(climb_stairs_3_steps(5), 13)\n",
    "\n",
    "if __name__ == '__main__':\n",
    "    unittest.main(argv=['first-arg-is-ignored'], exit=False)"
   ]
  },
  {
   "cell_type": "code",
   "execution_count": 62,
   "metadata": {},
   "outputs": [
    {
     "data": {
      "text/plain": [
       "4"
      ]
     },
     "execution_count": 62,
     "metadata": {},
     "output_type": "execute_result"
    }
   ],
   "source": [
    "'''\n",
    "    Problem: Climbing Stairs with k steps\n",
    "    \n",
    "    You are climbing a stair case. It takes n steps to reach to the top.\n",
    "    Each time you can either climb k steps.\n",
    "    In how many distinct ways can you climb to the top?\n",
    "    \n",
    "    Framework for solving DP problems:\n",
    "    1. Define the objective function\n",
    "        f(i) is the number distinct ways to reach to i-th stair using k steps, assume you can do 1 step.\n",
    "        k_i includes all k_i-1 values as long as i > 0\n",
    "    2. Identify the base cases\n",
    "        f(0) = 1\n",
    "        f(1) = 1\n",
    "    3. Write down a recurrence relation for the optimized objective fuction\n",
    "        f(n) = f(n-1) + f(n-2) + ... + f(n-k)\n",
    "    4. What's the order of execution?\n",
    "        bottom-up, rely on the previous subproblems\n",
    "    5. Where to look for the answer?\n",
    "        f(n)\n",
    "\n",
    "'''\n",
    "# time complexity O(n*k)\n",
    "# space complexity O(n)\n",
    "def climb_k_stairs(n:int, k:int) -> int:\n",
    "    if n == 0:\n",
    "        return 1\n",
    "    dp = [0] * (n + 1)\n",
    "    dp[0] = 1\n",
    "    dp[1] = 1\n",
    "    for i in range(2, len(dp)):\n",
    "        #dp[i] = dp[i-1] + dp[i-2] + ... + dp[i-k]\n",
    "        for j in range(1, k+1):\n",
    "            #dp[i] += dp[i-j] This will give an error when if j > i\n",
    "            if i - j < 0:\n",
    "                continue\n",
    "            else:\n",
    "                dp[i] += dp[i-j]\n",
    "    return dp[n]\n",
    "\n",
    "\n",
    "climb_k_stairs(3, 3)"
   ]
  },
  {
   "cell_type": "code",
   "execution_count": 40,
   "metadata": {},
   "outputs": [
    {
     "name": "stderr",
     "output_type": "stream",
     "text": [
      "....\n",
      "----------------------------------------------------------------------\n",
      "Ran 4 tests in 0.058s\n",
      "\n",
      "OK\n"
     ]
    }
   ],
   "source": [
    "import unittest\n",
    "\n",
    "class Test_k_Stairs(unittest.TestCase):\n",
    "    \n",
    "    def test_edgecase1(self):\n",
    "        self.assertEqual(climb_k_stairs(0, 1), 1)\n",
    "\n",
    "    def test_simple(self):\n",
    "        self.assertEqual(climb_k_stairs(5, 2), 8)\n",
    "        \n",
    "    def test_simple2(self):\n",
    "        self.assertEqual(climb_k_stairs(3, 3), 4)\n",
    "\n",
    "    def test_simple3(self):\n",
    "        self.assertEqual(climb_k_stairs(5, 3), 13)\n",
    "    \n",
    "\n",
    "if __name__ == '__main__':\n",
    "    unittest.main(argv=['first-arg-is-ignored'], exit=False)"
   ]
  },
  {
   "cell_type": "markdown",
   "metadata": {},
   "source": [
    "# Climbing stairs with Red Steps (Course 6)\n",
    "\n",
    "First, he updates the code to have O(1) space complexity, code below.  \n",
    "\n",
    "### adding red stairs constraint\n",
    "\n",
    "red stairs are stairs you are not allowed to step on  \n",
    "\n",
    "the stair amount is n = 7  \n",
    "the amount of steps you can take is k = 3  \n",
    "the steps you can not step on is an array, lets say rs = [1, 3, 4]  \n",
    "\n",
    "How many ways can you reach the top of the stairs?  \n",
    "You can add an additional boolean check to see if you can take a the step  \n",
    "If you can not, then set the n_ith step value to 0  \n",
    "\n",
    "Source: [Course 6](https://www.youtube.com/watch?v=7vM_RZEGUcw&list=PLVrpF4r7WIhTT1hJqZmjP10nxsmrbRvlf&index=6)"
   ]
  },
  {
   "cell_type": "code",
   "execution_count": 79,
   "metadata": {},
   "outputs": [
    {
     "data": {
      "text/plain": [
       "4"
      ]
     },
     "execution_count": 79,
     "metadata": {},
     "output_type": "execute_result"
    }
   ],
   "source": [
    "'''\n",
    "    Problem: Climbing Stairs with k steps and optimize space complexity\n",
    "    \n",
    "    You are climbing a stair case. It takes n steps to reach to the top.\n",
    "    Each time you can either climb k steps.\n",
    "    In how many distinct ways can you climb to the top?\n",
    "    \n",
    "    Framework for solving DP problems:\n",
    "    1. Define the objective function\n",
    "        f(i) is the number distinct ways to reach to i-th stair using k steps, assume you can do 1 step.\n",
    "        k_i includes all k_i-1 values as long as i > 0\n",
    "    2. Identify the base cases\n",
    "        f(0) = 1\n",
    "        f(1) = 1\n",
    "    3. Write down a recurrence relation for the optimized objective fuction\n",
    "        f(n) = f(n-1) + f(n-2) + ... + f(n-k)\n",
    "    4. What's the order of execution?\n",
    "        bottom-up, rely on the previous subproblems\n",
    "    5. Where to look for the answer?\n",
    "        f(n)\n",
    "\n",
    "'''\n",
    "# time complexity O(n*k)\n",
    "# space complexity O(1)\n",
    "def climb_k_stairs(n:int, k:int) -> int:\n",
    "    if n == 0:\n",
    "        return 1\n",
    "    dp = [0] * k # only need to keep track of k elements\n",
    "    dp[0] = 1\n",
    "    for i in range(1, n+1):\n",
    "        for j in range(1, k):\n",
    "            if i - j < 0:\n",
    "                continue\n",
    "            else:\n",
    "                dp[i%k] += dp[(i-j)%k]\n",
    "    return dp[n%k]\n",
    "\n",
    "\n",
    "climb_k_stairs(3, 3)"
   ]
  },
  {
   "cell_type": "code",
   "execution_count": 80,
   "metadata": {},
   "outputs": [
    {
     "name": "stderr",
     "output_type": "stream",
     "text": [
      ".........\n",
      "----------------------------------------------------------------------\n",
      "Ran 9 tests in 0.007s\n",
      "\n",
      "OK\n"
     ]
    }
   ],
   "source": [
    "import unittest\n",
    "\n",
    "class Test_k_Stairs(unittest.TestCase):\n",
    "    \n",
    "    def test_edgecase1(self):\n",
    "        self.assertEqual(climb_k_stairs(0, 1), 1)\n",
    "\n",
    "    def test_simple(self):\n",
    "        self.assertEqual(climb_k_stairs(5, 2), 8)\n",
    "        \n",
    "    def test_simple2(self):\n",
    "        self.assertEqual(climb_k_stairs(3, 3), 4)\n",
    "        \n",
    "    def test_simple3(self):\n",
    "        self.assertEqual(climb_k_stairs(5, 3), 13)\n",
    "    \n",
    "\n",
    "if __name__ == '__main__':\n",
    "    unittest.main(argv=['first-arg-is-ignored'], exit=False)"
   ]
  },
  {
   "cell_type": "code",
   "execution_count": 74,
   "metadata": {},
   "outputs": [
    {
     "name": "stdout",
     "output_type": "stream",
     "text": [
      "[False, True, False, True, True, False, False]\n"
     ]
    },
    {
     "data": {
      "text/plain": [
       "2"
      ]
     },
     "execution_count": 74,
     "metadata": {},
     "output_type": "execute_result"
    }
   ],
   "source": [
    "'''\n",
    "    Problem: Climbing Stairs with k steps, optimize space complexity, and skip red steps\n",
    "    \n",
    "    You are climbing a stair case. It takes n steps to reach to the top.\n",
    "    Each time you can either climb k steps. You are not allowed to step on red stairs.\n",
    "    In how many distinct ways can you climb to the top?\n",
    "    \n",
    "    Framework for solving DP problems:\n",
    "    1. Define the objective function\n",
    "        f(i) is the number distinct ways to reach to i-th stair using k steps, assume you can do 1 step.\n",
    "        k_i includes all k_i-1 values as long as i > 0\n",
    "    2. Identify the base cases\n",
    "        f(0) = 1\n",
    "        f(1) = 1\n",
    "    3. Write down a recurrence relation for the optimized objective fuction\n",
    "        f(n) = f(n-1) + f(n-2) + ... + f(n-k)\n",
    "    4. What's the order of execution?\n",
    "        bottom-up, rely on the previous subproblems\n",
    "    5. Where to look for the answer?\n",
    "        f(n)\n",
    "\n",
    "'''\n",
    "# time complexity O(n*k)\n",
    "# space complexity O(1)\n",
    "def climb_k_stairs_skip_red(n:int, k:int, rs: list) -> int:\n",
    "    if n == 0:\n",
    "        return 1\n",
    "    dp = [0] * k\n",
    "    dp[0] = 1\n",
    "    for i in range(1, n+1):\n",
    "        for j in range(1, k):\n",
    "            if i - j < 0:\n",
    "                continue\n",
    "            else:\n",
    "                if rs[i-1]: # red step\n",
    "                    dp[i%k] = 0\n",
    "                else:\n",
    "                    dp[i%k] += dp[(i-j)%k]\n",
    "    return dp[n%k]\n",
    "\n",
    "def red_steps(n:int, red_steps:list) -> list:\n",
    "    steps = [False] * n\n",
    "    for red_step in red_steps:\n",
    "        if 0 < red_step < len(steps):\n",
    "            steps[red_step] = True\n",
    "    return steps\n",
    "\n",
    "n = 7\n",
    "k = 3\n",
    "red_steps_list = [1, 3, 4]\n",
    "rs = red_steps(n, red_steps_list)\n",
    "print(rs)\n",
    "climb_k_stairs_skip_red(n, k, rs)"
   ]
  },
  {
   "cell_type": "code",
   "execution_count": 82,
   "metadata": {},
   "outputs": [
    {
     "name": "stderr",
     "output_type": "stream",
     "text": [
      ".........\n",
      "----------------------------------------------------------------------\n",
      "Ran 9 tests in 0.052s\n",
      "\n",
      "OK\n"
     ]
    }
   ],
   "source": [
    "import unittest\n",
    "\n",
    "class Test_k_Stairs_Red_Steps(unittest.TestCase):\n",
    "    \n",
    "    def test_simple_red(self):\n",
    "        self.assertEqual(climb_k_stairs_skip_red(7, 3, [False, True, False, True, True, False, False]), 2)\n",
    "\n",
    "if __name__ == '__main__':\n",
    "    unittest.main(argv=['first-arg-is-ignored'], exit=False)"
   ]
  },
  {
   "cell_type": "markdown",
   "metadata": {},
   "source": [
    "# Optimization Problem (Course 7)\n",
    "\n",
    "Optimization problems ask you to either minimize or maximize something  \n",
    "\n",
    "Instead of finding the amount if ways to get to the top, we are now going to find the shortest/cheapest path to the top  \n",
    "\n",
    "We can introduce a price to take each step called p  \n",
    "\n",
    "n = 3, k = 2, p = [3, 2, 4]  \n",
    "\n",
    "1. F(i) = min cost to get to the ith stair\n",
    "\n",
    "2. Base case  \n",
    "F(0) = 0  \n",
    "F(1) = 3  \n",
    "F(2) = 3 + 2 or 2  \n",
    "F(3) = 3 + 2 + 4 or 3 + 4 or 2 + 4 = 6, the lower value  \n",
    "\n",
    "3. Transition function:  \n",
    "\n",
    "The cost to get to the last step is \n",
    "F(end) = P(end) + min(F(end-1), F(end-2))  \n",
    "F(n) = P(n) + min(F(n-1), F(n-2))  \n",
    "\n",
    "4. Bottom up  \n",
    "\n",
    "5. F(n)  \n",
    "\n",
    "Source: [Course 7](https://www.youtube.com/watch?v=hekG82t4U_M&list=PLVrpF4r7WIhTT1hJqZmjP10nxsmrbRvlf&index=7)"
   ]
  },
  {
   "cell_type": "code",
   "execution_count": 6,
   "metadata": {},
   "outputs": [
    {
     "data": {
      "text/plain": [
       "6"
      ]
     },
     "execution_count": 6,
     "metadata": {},
     "output_type": "execute_result"
    }
   ],
   "source": [
    "'''\n",
    "    Problem: Min Climbing Stairs with 1,2 steps, and price\n",
    "    \n",
    "    You are climbing a stair case. It takes n steps to reach to the top.\n",
    "    Each time you can either climb 1, 2 steps. Each step has a price to take the step  \n",
    "    what is the lowest cost path to climb to the top?\n",
    "    \n",
    "'''\n",
    "# time complexity O(n)\n",
    "# space complexity O(n)\n",
    "def paid_staircase(n:int, p: list) -> int:\n",
    "    if n == 0:\n",
    "        return 1\n",
    "    dp = [0] * (n+1)\n",
    "    dp[0] = 0 # cost starts at 0\n",
    "    dp[1] = p[1] # first stair cost is p\n",
    "    for i in range(2, len(dp)):\n",
    "        dp[i] = min(dp[i-1], dp[i-2]) + p[i]\n",
    "    return dp[n]\n",
    "\n",
    "n = 3\n",
    "price = [0, 3, 2, 4]\n",
    "paid_staircase(n, price)"
   ]
  },
  {
   "cell_type": "code",
   "execution_count": 7,
   "metadata": {},
   "outputs": [
    {
     "name": "stderr",
     "output_type": "stream",
     "text": [
      ".\n",
      "----------------------------------------------------------------------\n",
      "Ran 1 test in 0.002s\n",
      "\n",
      "OK\n"
     ]
    }
   ],
   "source": [
    "import unittest\n",
    "\n",
    "class Test_k_Stairs_Red_Steps(unittest.TestCase):\n",
    "    \n",
    "    def test_paid_staircase(self):\n",
    "        self.assertEqual(paid_staircase(3, [0, 3, 2, 4]), 6)\n",
    "\n",
    "if __name__ == '__main__':\n",
    "    unittest.main(argv=['first-arg-is-ignored'], exit=False)"
   ]
  },
  {
   "cell_type": "markdown",
   "metadata": {},
   "source": [
    "# How to reconstruct the solution (Course 8)\n",
    "\n",
    "We know the min cost, but what is the optimum path?  \n",
    "\n",
    "n = 8, k = 2, p = [3, 2, 4, 6, 1, 1, 5, 3]  \n",
    "\n",
    "F(n) = min(F(n-1), F(n-2)) + p(n)  \n",
    "\n",
    "| step     | 0 | 1 | 2 | 3   | 4   | 5   | 6   | 7   | 8   |\n",
    "|----------|---|---|---|-----|-----|-----|-----|-----|-----|\n",
    "| cost     | 0 | 3 | 2 | 4   | 6   | 1   | 1   | 5   | 3   |\n",
    "| best     | 0 | 3 | 2 | 2+4 | 2+6 | 6+1 | 7+1 | 7+5 | 8+3 |\n",
    "| total    | 0 | 3 | 2 | 6   | 8   | 7   | 8   | 12  | 11  |\n",
    "| rev_path |   |   | 0 | 2   |     | 3   | 5   |     | 6   |\n",
    "| path     | 0 | 2 | 3 | 5   | 6   | 8   |     |     |     |\n",
    "\n",
    "Source: [Course 8](https://www.youtube.com/watch?v=hekG82t4U_M&list=PLVrpF4r7WIhTT1hJqZmjP10nxsmrbRvlf&index=8)"
   ]
  },
  {
   "cell_type": "code",
   "execution_count": 15,
   "metadata": {},
   "outputs": [
    {
     "data": {
      "text/plain": [
       "(11, [0, 2, 3, 5, 6, 8])"
      ]
     },
     "execution_count": 15,
     "metadata": {},
     "output_type": "execute_result"
    }
   ],
   "source": [
    "from typing import Union\n",
    "'''\n",
    "    Problem: Min Climbing Stairs with 1,2 steps, price\n",
    "    and keep track of path\n",
    "    \n",
    "    You are climbing a stair case. It takes n steps to reach to the top.\n",
    "    Each time you can either climb 1 or 2 steps. Each step has a price to take the step  \n",
    "    Return the cheapest path to the top of the staircase.\n",
    "    \n",
    "'''\n",
    "# time complexity O(n)\n",
    "# space complexity O(n)\n",
    "def paid_staircase_path(n:int, p: list) ->  Union[int, list]:\n",
    "    if n == 0:\n",
    "        return 1\n",
    "    path = [0] * (n+1)\n",
    "    dp = [0] * (n+1)\n",
    "    dp[0] = 0 # cost starts at 0\n",
    "    dp[1] = p[1] # first stair cost is p\n",
    "    for i in range(2, len(dp)):\n",
    "        dp[i] = min(dp[i-1], dp[i-2]) + p[i]\n",
    "        if dp[i-1] < dp[i-2]:\n",
    "            path[i] = i - 1\n",
    "        else:\n",
    "            path[i] = i - 2\n",
    "        \n",
    "    best_path = []\n",
    "    cur = i\n",
    "    while cur > 0:\n",
    "        best_path.append(cur)\n",
    "        cur = path[cur]\n",
    "    best_path.append(0)\n",
    "\n",
    "    return dp[n], best_path[::-1]\n",
    "\n",
    "n = 8\n",
    "price = [0, 3, 2, 4, 6, 1, 1, 5, 3]\n",
    "paid_staircase_path(n, price)"
   ]
  },
  {
   "cell_type": "code",
   "execution_count": 16,
   "metadata": {},
   "outputs": [
    {
     "name": "stderr",
     "output_type": "stream",
     "text": [
      ".\n",
      "----------------------------------------------------------------------\n",
      "Ran 1 test in 0.001s\n",
      "\n",
      "OK\n"
     ]
    }
   ],
   "source": [
    "import unittest\n",
    "\n",
    "class Test_k_Stairs_Red_Steps(unittest.TestCase):\n",
    "    \n",
    "    def test_paid_staircase_path(self):\n",
    "        self.assertEqual(paid_staircase_path(8, [0, 3, 2, 4, 6, 1, 1, 5, 3]), (11, [0, 2, 3, 5, 6, 8]))\n",
    "\n",
    "if __name__ == '__main__':\n",
    "    unittest.main(argv=['first-arg-is-ignored'], exit=False)"
   ]
  },
  {
   "cell_type": "markdown",
   "metadata": {},
   "source": [
    "# Unique Path (Course 9)\n",
    "\n",
    "### Goal: find the number of ways to reach position x, y in matric mxn  \n",
    "\n",
    "Start at (0,0)  \n",
    "Finish at (m, n)  \n",
    "Can move down or right  (i+1, j), (i, j+1)  \n",
    "\n",
    "### Framework\n",
    "##### Objective function\n",
    "    F(i, j) is the total number of ways to get to (i, j)  \n",
    "    \n",
    "##### Base Cases\n",
    "- If matrix is a (1,1)\n",
    "    - size of matrix is (1,1), then F(1, 1) = 1.\n",
    "    - size of matrix is (2,2), then F(1, 1) ->\n",
    "        - F(2, 1)\n",
    "            - F(2, 2)\n",
    "        - F(1, 2)\n",
    "            - F(2, 2)\n",
    "##### Transition function\n",
    "- If you want to solve the last step, then the last step to get ther is from either the left or above\n",
    "    - F(i, j) = F(i-1, j) + F(i, j-1)  \n",
    "    \n",
    "##### Interviewer asks how can you make cells that you can not step on?\n",
    "- check if the current path contains a col, row that is a bad cell. If it does, do not count the path, it = 0\n",
    "\n",
    "##### Interviewer asks to find the most profitable path\n",
    "- keep track of the last path taken in a path list\n",
    "    - d[i][j] represents the most to get to a grid spot\n",
    "    - need to keep track of the max(F[i-1][j], F[i],[j]) + d[i][j]\n",
    "Source: [Course 9](https://www.youtube.com/watch?v=YcrXBDAeTCs&list=PLVrpF4r7WIhTT1hJqZmjP10nxsmrbRvlf&index=9)"
   ]
  },
  {
   "cell_type": "code",
   "execution_count": 23,
   "metadata": {},
   "outputs": [
    {
     "name": "stdout",
     "output_type": "stream",
     "text": [
      "[1, 1, 1]\n",
      "[1, 2, 3]\n",
      "[1, 3, 6]\n",
      "[1, 4, 10]\n"
     ]
    },
    {
     "data": {
      "text/plain": [
       "10"
      ]
     },
     "execution_count": 23,
     "metadata": {},
     "output_type": "execute_result"
    }
   ],
   "source": [
    "'''\n",
    "Problem:\n",
    "    Unique Paths\n",
    "    \n",
    "    A robot is located at the top-left corner ot a mxn grid (marked 's' in the diagram below).\n",
    "    The robot can only move either down or right at any point in time.\n",
    "    The robot is trying to reach the bottom-right corner ot the grid (marked 'E' in the diagram below).\n",
    "    \n",
    "    How many possile unique paths are there?\n",
    "    \n",
    "    +---+---+---+---+\n",
    "    | s |   |   |   |\n",
    "    +---+---+---+---+\n",
    "    |   |   |   |   |\n",
    "    +---+---+---+---+\n",
    "    |   |   |   | E |\n",
    "    +---+---+---+---+\n",
    "    \n",
    "    Above is a 3 x 4 grid. How many possible unique paths are there?\n",
    "'''\n",
    "\n",
    "# Time complexity \n",
    "# space complexity\n",
    "def unique_paths(m: int, n: int) -> int:\n",
    "    # transition function: F(i, j) = F(i-1, j) + F(i, j-1)\n",
    "    dp = [[0 for i in range(n)] for j in range(m)]\n",
    "    dp[0][0] = 1\n",
    "    for i in range(m):\n",
    "        for j in range(n):\n",
    "            if i > 0 and j > 0:\n",
    "                dp[i][j] = dp[i-1][j] + dp[i][j-1]\n",
    "            elif i > 0:\n",
    "                dp[i][j] = dp[i-1][j]\n",
    "            elif j > 0:\n",
    "                dp[i][j] = dp[i][j-1]\n",
    "    for p in dp:\n",
    "        print(p)\n",
    "    return dp[-1][-1]\n",
    "\n",
    "unique_paths(4,3)\n"
   ]
  },
  {
   "cell_type": "code",
   "execution_count": 26,
   "metadata": {},
   "outputs": [
    {
     "name": "stderr",
     "output_type": "stream",
     "text": [
      ".."
     ]
    },
    {
     "name": "stdout",
     "output_type": "stream",
     "text": [
      "[1]\n",
      "[1, 1, 1]\n",
      "[1, 2, 3]\n",
      "[1, 3, 6]\n",
      "[1, 4, 10]\n"
     ]
    },
    {
     "name": "stderr",
     "output_type": "stream",
     "text": [
      "\n",
      "----------------------------------------------------------------------\n",
      "Ran 2 tests in 0.002s\n",
      "\n",
      "OK\n"
     ]
    }
   ],
   "source": [
    "import unittest\n",
    "\n",
    "class Test_Unique_Paths(unittest.TestCase):\n",
    "    \n",
    "    def test_unique_paths_simple(self):\n",
    "        self.assertEqual(unique_paths(1, 1), 1)\n",
    "        \n",
    "    def test_unique_paths_simple2(self):\n",
    "        self.assertEqual(unique_paths(4, 3), 10)\n",
    "\n",
    "if __name__ == '__main__':\n",
    "    unittest.main(argv=['first-arg-is-ignored'], exit=False)"
   ]
  },
  {
   "cell_type": "code",
   "execution_count": 30,
   "metadata": {},
   "outputs": [
    {
     "name": "stdout",
     "output_type": "stream",
     "text": [
      "[1, 1, 1, 1]\n",
      "[1, 0, 0, 1]\n",
      "[1, 1, 1, 2]\n"
     ]
    },
    {
     "data": {
      "text/plain": [
       "2"
      ]
     },
     "execution_count": 30,
     "metadata": {},
     "output_type": "execute_result"
    }
   ],
   "source": [
    "'''\n",
    "Problem:\n",
    "    Unique Paths with Obstacles\n",
    "    \n",
    "    A robot is located at the top-left corner ot a mxn grid (marked 's' in the diagram below).\n",
    "    The robot can only move either down or right at any point in time.\n",
    "    The robot is trying to reach the bottom-right corner ot the grid (marked 'E' in the diagram below).\n",
    "    \n",
    "    Now consider if some obstacles are added to the grides.\n",
    "    How many unique paths would there be?\n",
    "    \n",
    "    +---+---+---+---+\n",
    "    | s |   |   |   |\n",
    "    +---+---+---+---+\n",
    "    |   | 1 | 1 | 1 |\n",
    "    +---+---+---+---+\n",
    "    |   |   |   | E |\n",
    "    +---+---+---+---+\n",
    "    \n",
    "    An obstacle and empty space is marked as 1 and 0 respectively in the grid.\n",
    "'''\n",
    "\n",
    "# Time complexity \n",
    "# space complexity\n",
    "def unique_paths_with_obstacle(grid: list) -> int:\n",
    "    # transition function: F(i, j) = F(i-1, j) + F(i, j-1)\n",
    "    m = len(grid)\n",
    "    n = len(grid[0])\n",
    "    dp = [[0 for i in range(n)] for j in range(m)]\n",
    "    dp[0][0] = 1\n",
    "    for i in range(m):\n",
    "        for j in range(n):\n",
    "            if grid[i][j] == 1:\n",
    "                dp[i][j] = 0 # it aleady is 0, but later on this may be useful\n",
    "                continue\n",
    "                \n",
    "            if i > 0 and j > 0:\n",
    "                dp[i][j] = dp[i-1][j] + dp[i][j-1]\n",
    "            elif i > 0:\n",
    "                dp[i][j] = dp[i-1][j]\n",
    "            elif j > 0:\n",
    "                dp[i][j] = dp[i][j-1]\n",
    "    for p in dp:\n",
    "        print(p)\n",
    "    return dp[-1][-1]\n",
    "\n",
    "grid = [\n",
    "    [0, 0, 0, 0],\n",
    "    [0, 1, 1, 0],\n",
    "    [0, 0, 0, 0],\n",
    "]\n",
    "unique_paths_with_obstacle(grid)"
   ]
  },
  {
   "cell_type": "code",
   "execution_count": 31,
   "metadata": {},
   "outputs": [
    {
     "name": "stderr",
     "output_type": "stream",
     "text": [
      ".."
     ]
    },
    {
     "name": "stdout",
     "output_type": "stream",
     "text": [
      "[1]\n",
      "[1, 1, 1, 1]\n",
      "[1, 2, 0, 0]\n",
      "[1, 3, 3, 3]\n"
     ]
    },
    {
     "name": "stderr",
     "output_type": "stream",
     "text": [
      "\n",
      "----------------------------------------------------------------------\n",
      "Ran 2 tests in 0.004s\n",
      "\n",
      "OK\n"
     ]
    }
   ],
   "source": [
    "import unittest\n",
    "\n",
    "class Test_Unique_Paths_With_Obstacle(unittest.TestCase):\n",
    "    \n",
    "    def test_unique_paths_with_obstacle_simple(self):\n",
    "        grid = [[0]]\n",
    "        self.assertEqual(unique_paths_with_obstacle(grid), 1)\n",
    "        \n",
    "    def test_unique_paths_with_obstacle_simple2(self):\n",
    "        grid = [\n",
    "            [0, 0, 0, 0],\n",
    "            [0, 0, 1, 1],\n",
    "            [0, 0, 0, 0],\n",
    "        ]\n",
    "        self.assertEqual(unique_paths_with_obstacle(grid), 3)\n",
    "\n",
    "if __name__ == '__main__':\n",
    "    unittest.main(argv=['first-arg-is-ignored'], exit=False)"
   ]
  },
  {
   "cell_type": "code",
   "execution_count": 77,
   "metadata": {},
   "outputs": [
    {
     "name": "stdout",
     "output_type": "stream",
     "text": [
      "[0, 2, 4, 6]\n",
      "[3, 4, 5, 8]\n",
      "[7, 11, 13, 13]\n"
     ]
    },
    {
     "data": {
      "text/plain": [
       "13"
      ]
     },
     "execution_count": 77,
     "metadata": {},
     "output_type": "execute_result"
    }
   ],
   "source": [
    "'''\n",
    "Problem:\n",
    "    Maximum Profit in a Grid\n",
    "    \n",
    "    A robot is located at the top-left corner ot a mxn grid (marked 's' in the diagram below).\n",
    "    The robot can only move either down or right at any point in time.\n",
    "    The robot is trying to reach the bottom-right corner ot the grid (marked 'E' in the diagram below).\n",
    "    Each cell contains a coin the robot can collect.\n",
    "    \n",
    "    What is the maximum profit the robot can accumulate?\n",
    "    \n",
    "    +---+---+---+---+\n",
    "    | s | 2 | 2 | 1 |\n",
    "    +---+---+---+---+\n",
    "    | 3 | 1 | 1 | 1 |\n",
    "    +---+---+---+---+\n",
    "    | 4 | 4 | 2 | E |\n",
    "    +---+---+---+---+\n",
    "    \n",
    "'''\n",
    "\n",
    "# Time complexity \n",
    "# space complexity\n",
    "def max_profit(grid: list) -> int:\n",
    "    # transition function: F(i, j) = F(i-1, j) + F(i, j-1)\n",
    "    m = len(grid)\n",
    "    n = len(grid[0])\n",
    "    dp = [[0 for i in range(n)] for j in range(m)]\n",
    "    dp[0][0] = 0\n",
    "    for i in range(m):\n",
    "        for j in range(n):\n",
    "            if i > 0 and j > 0:\n",
    "                dp[i][j] = max(dp[i-1][j], dp[i][j-1]) + grid[i][j]\n",
    "            elif i > 0:\n",
    "                dp[i][j] = dp[i-1][j] + grid[i][j]\n",
    "            elif j > 0:\n",
    "                dp[i][j] = dp[i][j-1] + grid[i][j]\n",
    "    for p in dp:\n",
    "        print(p)\n",
    "    return dp[-1][-1]\n",
    "\n",
    "grid = [\n",
    "    [0, 2, 2, 2],\n",
    "    [3, 1, 1, 2],\n",
    "    [4, 4, 2, 0],\n",
    "]\n",
    "max_profit(grid)"
   ]
  },
  {
   "cell_type": "code",
   "execution_count": 78,
   "metadata": {},
   "outputs": [
    {
     "name": "stderr",
     "output_type": "stream",
     "text": [
      "...."
     ]
    },
    {
     "name": "stdout",
     "output_type": "stream",
     "text": [
      "[0, 2, 4, 6]\n",
      "[3, 4, 5, 8]\n",
      "[7, 11, 13, 13]\n",
      "[0, 2, 4, 54]\n",
      "[3, 4, 5, 154]\n",
      "[7, 11, 13, 154]\n",
      "[1]\n",
      "[1, 1, 1, 1]\n",
      "[1, 2, 0, 0]\n",
      "[1, 3, 3, 3]\n"
     ]
    },
    {
     "name": "stderr",
     "output_type": "stream",
     "text": [
      "\n",
      "----------------------------------------------------------------------\n",
      "Ran 4 tests in 0.098s\n",
      "\n",
      "OK\n"
     ]
    }
   ],
   "source": [
    "import unittest\n",
    "\n",
    "class Test_Max_Profits(unittest.TestCase):\n",
    "    \n",
    "    def test_max_profit_simple(self):\n",
    "        grid = [\n",
    "            [0, 2, 2, 2],\n",
    "            [3, 1, 1, 2],\n",
    "            [4, 4, 2, 0],\n",
    "        ]\n",
    "        self.assertEqual(max_profit(grid), 13)\n",
    "        \n",
    "    def test_max_profit_simple2(self):\n",
    "        grid = [\n",
    "            [0, 2, 2, 50],\n",
    "            [3, 1, 1, 100],\n",
    "            [4, 4, 2, 0],\n",
    "        ]\n",
    "        self.assertEqual(max_profit(grid), 154)\n",
    "\n",
    "if __name__ == '__main__':\n",
    "    unittest.main(argv=['first-arg-is-ignored'], exit=False)"
   ]
  },
  {
   "cell_type": "markdown",
   "metadata": {},
   "source": [
    "# Two Dimensional Problem (Course 10)\n",
    "\n",
    "# how to find the most profitable path for the grid\n",
    "\n",
    "Source: [Course 10](https://www.youtube.com/watch?v=YcrXBDAeTCs&list=PLVrpF4r7WIhTT1hJqZmjP10nxsmrbRvlf&index=10)"
   ]
  },
  {
   "cell_type": "code",
   "execution_count": 79,
   "metadata": {},
   "outputs": [
    {
     "name": "stdout",
     "output_type": "stream",
     "text": [
      "[(0, 0), (1, 0), (2, 0), (2, 1), (2, 2), (2, 3)]\n"
     ]
    }
   ],
   "source": [
    "'''\n",
    "Problem:\n",
    "    Maximum Profit in a Grid\n",
    "    \n",
    "    A robot is located at the top-left corner ot a mxn grid (marked 's' in the diagram below).\n",
    "    The robot can only move either down or right at any point in time.\n",
    "    The robot is trying to reach the bottom-right corner ot the grid (marked 'E' in the diagram below).\n",
    "    Each cell contains a coin the robot can collect.\n",
    "    \n",
    "    What is the path that lead to the maximum profit the robot can accumulate?\n",
    "    \n",
    "    +---+---+---+---+\n",
    "    | s | 2 | 2 | 1 |\n",
    "    +---+---+---+---+\n",
    "    | 3 | 1 | 1 | 1 |\n",
    "    +---+---+---+---+\n",
    "    | 4 | 4 | 2 | E |\n",
    "    +---+---+---+---+\n",
    "    \n",
    "'''\n",
    "\n",
    "# Time complexity \n",
    "# space complexity\n",
    "def max_profit_path(grid: list) -> int:\n",
    "    # transition function: F(i, j) = F(i-1, j) + F(i, j-1)\n",
    "    m = len(grid)\n",
    "    n = len(grid[0])\n",
    "    dp = [[0 for i in range(n)] for j in range(m)]\n",
    "    dp[0][0] = 0\n",
    "    for i in range(m):\n",
    "        for j in range(n):\n",
    "            if i > 0 and j > 0:\n",
    "                dp[i][j] = max(dp[i-1][j], dp[i][j-1]) + grid[i][j]\n",
    "            elif i > 0:\n",
    "                dp[i][j] = dp[i-1][j] + grid[i][j]\n",
    "            elif j > 0:\n",
    "                dp[i][j] = dp[i][j-1] + grid[i][j]\n",
    "    d = get_path(dp, m-1, n-1, [])\n",
    "    return d\n",
    "\n",
    "def get_path(dp, i, j, path):\n",
    "    path.insert(0, (i, j))\n",
    "    if i == 0 and j == 0:\n",
    "        return path\n",
    "    elif i == 0:\n",
    "        j -= 1\n",
    "    elif j == 0:\n",
    "        i -= 1\n",
    "    else:\n",
    "        if dp[i-1][j] > dp[i][j-1]:\n",
    "            i -= 1\n",
    "        else:\n",
    "            j -= 1\n",
    "    return get_path(dp, i, j, path)\n",
    "\n",
    "    \n",
    "grid = [\n",
    "    [0, 2, 2, 2],\n",
    "    [3, 1, 1, 2],\n",
    "    [4, 4, 2, 0],\n",
    "]\n",
    "best_path = max_profit_path(grid)\n",
    "print(best_path)"
   ]
  },
  {
   "cell_type": "code",
   "execution_count": 80,
   "metadata": {},
   "outputs": [
    {
     "name": "stderr",
     "output_type": "stream",
     "text": [
      "...."
     ]
    },
    {
     "name": "stdout",
     "output_type": "stream",
     "text": [
      "[1]\n",
      "[1, 1, 1, 1]\n",
      "[1, 2, 0, 0]\n",
      "[1, 3, 3, 3]\n"
     ]
    },
    {
     "name": "stderr",
     "output_type": "stream",
     "text": [
      "\n",
      "----------------------------------------------------------------------\n",
      "Ran 4 tests in 0.068s\n",
      "\n",
      "OK\n"
     ]
    }
   ],
   "source": [
    "import unittest\n",
    "\n",
    "class Test_Max_Profits(unittest.TestCase):\n",
    "    \n",
    "    def test_max_profit_simple(self):\n",
    "        grid = [\n",
    "            [0, 2, 2, 2],\n",
    "            [3, 1, 1, 2],\n",
    "            [4, 4, 2, 0],\n",
    "        ]\n",
    "        self.assertEqual(max_profit_path(grid), [(0, 0), (1, 0), (2, 0), (2, 1), (2, 2), (2, 3)])\n",
    "        \n",
    "    def test_max_profit_simple2(self):\n",
    "        grid = [\n",
    "            [0, 2, 2, 50],\n",
    "            [3, 1, 1, 100],\n",
    "            [4, 4, 2, 0],\n",
    "        ]\n",
    "        self.assertEqual(max_profit_path(grid), [(0, 0), (0, 1), (0, 2), (0, 3), (1, 3), (2, 3)])\n",
    "\n",
    "if __name__ == '__main__':\n",
    "    unittest.main(argv=['first-arg-is-ignored'], exit=False)"
   ]
  }
 ],
 "metadata": {
  "kernelspec": {
   "display_name": "Python 3",
   "language": "python",
   "name": "python3"
  },
  "language_info": {
   "codemirror_mode": {
    "name": "ipython",
    "version": 3
   },
   "file_extension": ".py",
   "mimetype": "text/x-python",
   "name": "python",
   "nbconvert_exporter": "python",
   "pygments_lexer": "ipython3",
   "version": "3.7.8"
  }
 },
 "nbformat": 4,
 "nbformat_minor": 4
}
