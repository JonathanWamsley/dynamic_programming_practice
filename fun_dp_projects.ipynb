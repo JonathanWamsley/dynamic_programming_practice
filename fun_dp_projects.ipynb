{
 "cells": [
  {
   "cell_type": "code",
   "execution_count": 61,
   "metadata": {},
   "outputs": [
    {
     "name": "stdout",
     "output_type": "stream",
     "text": [
      "map [-10, -9, -8, -7, -6, -5, -4, -3, -2, -101]\n",
      "\n",
      "score -116\n",
      "\n",
      "path [0, 2, 5, 8, 9]\n"
     ]
    }
   ],
   "source": [
    "from typing import Union\n",
    "import random\n",
    "'''\n",
    "    Problem: Mario needs to get to bowsers castle\n",
    "    Mario can move forward by doing a jump, double jump, or long jump k = [1,2,3]\n",
    "    He must avoid the obstacles and collect the coins along the path, p\n",
    "    p has a time constraint added by p = [-n, -(n-1), -(n-2), ... -3, -2, -1, 0]\n",
    "    If there is a coin, the cell block becomes + n*10\n",
    "    If there is a trap, the cell block becomes - n*10\n",
    "    \n",
    "    Help Mario find the best path to bowsers castle\n",
    "    \n",
    "    1. Objective function\n",
    "        F(i) = the max path score to get to bowsers castle avoiding obstacles and getting coins along the way\n",
    "    2. Base case\n",
    "    \n",
    "    F(0) = 0\n",
    "    F(1) = p[1]\n",
    "    F(2) = p[2]\n",
    "    F(3) = p[3]\n",
    "    \n",
    "    F(end) = min(F(end-1), F(end-2), F(end-3))) + p(end)\n",
    "    \n",
    "    3. Recurrence relationship\n",
    "        F(n) = min(F(n-1), F(n-2), F(n-3))) + p(n)\n",
    "        \n",
    "    4. What is the order of execution\n",
    "        bottom up\n",
    "    5. Where is the answer\n",
    "        f(n)\n",
    "'''\n",
    "\n",
    "# time complexity O(n)\n",
    "# space complexity O(n)\n",
    "def play_level(level: list) ->  Union[int, list]:\n",
    "    level_amount = len(level)\n",
    "    dp = [0] * level_amount\n",
    "    dp[0] = level[0]\n",
    "    dp[1] = level[1]\n",
    "    dp[2] = level[2]\n",
    "    path = [0] * level_amount\n",
    "    for i in range(3, level_amount):\n",
    "        dp[i] = max(dp[i-1], dp[i-2], dp[i-3]) + level[i]\n",
    "        \n",
    "        if dp[i-1] > dp[i-2] and dp[i-1] > dp[i-3]:\n",
    "            path[i] = i - 1\n",
    "        elif dp[i-2] > dp[i-1] and dp[i-2] > dp[i-3]:\n",
    "            path[i] = i - 2\n",
    "        else:\n",
    "            path[i] = i - 3\n",
    "        \n",
    "    best_path = []\n",
    "    cur = i\n",
    "    while cur > 0:\n",
    "        best_path.append(cur)\n",
    "        cur = path[cur]\n",
    "    best_path.append(0)\n",
    "\n",
    "    return dp[-1], best_path[::-1]\n",
    "\n",
    "def generate_level(level_size, coin_amount, trap_amount):\n",
    "    level = list(range(-level_size, 0, 1))\n",
    "    level = add_coins(level, coin_amount)\n",
    "    level = add_traps(level, trap_amount)\n",
    "    return level\n",
    "\n",
    "def add_coins(level, coin_amount):\n",
    "    '''adds values'''\n",
    "    n = len(level)\n",
    "    coins = random.sample(range(1, n), coin_amount)\n",
    "    for coin in coins:\n",
    "        level[coin] += n*10\n",
    "    return level\n",
    "\n",
    "def add_traps(level, trap_amount):\n",
    "    '''Subtracts values'''\n",
    "    n = len(level)\n",
    "    traps = random.sample(range(1, n), trap_amount)\n",
    "    for trap in traps:\n",
    "        level[trap] -= n*10\n",
    "    return level\n",
    "\n",
    "\n",
    "level_size = 10\n",
    "coin_amount = 3\n",
    "trap_amount = 4\n",
    "\n",
    "level = generate_level(level_size, coin_amount, trap_amount)\n",
    "results = play_level(level)\n",
    "print('map', level)\n",
    "print()\n",
    "print('score', results[0])\n",
    "print()\n",
    "print('path', results[1])"
   ]
  },
  {
   "cell_type": "code",
   "execution_count": 67,
   "metadata": {},
   "outputs": [
    {
     "data": {
      "image/png": "[encoded data removed]",
      "text/plain": [
       "<Figure size 432x288 with 1 Axes>"
      ]
     },
     "metadata": {
      "needs_background": "light"
     },
     "output_type": "display_data"
    },
    {
     "name": "stdout",
     "output_type": "stream",
     "text": [
      "mean =  13872.964\n"
     ]
    }
   ],
   "source": [
    "import matplotlib.pyplot as plt\n",
    "level_size = 100\n",
    "coin_amount = 30\n",
    "trap_amount = 40\n",
    "trial_amount = 1000\n",
    "trials = []\n",
    "for trial in range(trial_amount):\n",
    "    level = generate_level(level_size, coin_amount, trap_amount)\n",
    "    trials.append(play_level(level)[0])\n",
    "    \n",
    "\n",
    "trials.sort()\n",
    "\n",
    "plt.plot(trials)\n",
    "plt.title(f'{level_size}-{coin_amount}-{trap_amount}')\n",
    "plt.xlabel('Sorted Trials')\n",
    "plt.ylabel('Score',)\n",
    "plt.show()\n",
    "print('mean = ', sum(trials)/len(trials))"
   ]
  },
  {
   "cell_type": "markdown",
   "metadata": {},
   "source": [
    "# Mario kart simulation\n",
    "\n",
    "8 contestants are racing each other on the racetrack. See what canidate is the most likely to win under different starting conditions and random chance occurances. Along the way traps should be avoided and items can be picked up.\n",
    "\n",
    "Each contestant has a weight, acceleration and max speed.\n",
    "- weight affects collisions, heavier carts do not move, but lighter carts get bumped and slowed down.\n",
    "- acceleration allows a cart to get to its top speed faster\n",
    "- max speed is capped unless certain items are used\n",
    "\n",
    "Each level has 3 lanes, and are weighted as if there is a natural curve forming a loop. The left lane is favored the most decreasing as you go to the right. The out of bounds lanes, one left or right of the leftmost or rightmost lane is negatively favored.\n",
    "\n",
    "movement\n",
    "- a cart can move forward, forword + left, or forward + right with a slight penalty for lateral movement\n",
    "\n",
    "\n"
   ]
  },
  {
   "cell_type": "code",
   "execution_count": null,
   "metadata": {},
   "outputs": [],
   "source": []
  }
 ],
 "metadata": {
  "kernelspec": {
   "display_name": "Python 3",
   "language": "python",
   "name": "python3"
  },
  "language_info": {
   "codemirror_mode": {
    "name": "ipython",
    "version": 3
   },
   "file_extension": ".py",
   "mimetype": "text/x-python",
   "name": "python",
   "nbconvert_exporter": "python",
   "pygments_lexer": "ipython3",
   "version": "3.7.8"
  }
 },
 "nbformat": 4,
 "nbformat_minor": 4
}
